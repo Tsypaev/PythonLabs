{
 "cells": [
  {
   "cell_type": "markdown",
   "metadata": {},
   "source": [
    "# k Nearest Neighbors\n",
    "## Classification\n",
    "Реализуйте алгоритм к ближайших соседей. \n",
    "Создадим искуственный набор данных из 100 наблюдений с 3 классами.\n",
    "Необходимо реализовать функцию на входе которой:\n",
    "- тренировочный набор данных (признаки и метки классов);\n",
    "- тестовый набор данных (признаки);\n",
    "- $k$ - количество ближайших соседей.\n",
    "\n",
    "На выходе функция должна возвращать метки тестового набора данных. \n",
    "В качестве расстояния между объектами следует использовать Эвклидову меру.\n",
    "\n",
    "**Алгоритм к ближайших соседей:**\n",
    "\n",
    "Для каждого объекта тестового набора данных:\n",
    "1. вычисление расстояний между всеми объектами тренировочного набора;\n",
    "2. определение $k$ наименьших расстояний;\n",
    "3. определение классов для $k$ найденных объектов;\n",
    "4. присваивание метки тестовому объекту класса, который превалирует среди найденных объектов.\n",
    "\n",
    "В многоклассовой модели может возникнуть неопределенность, что в 3 найденных объектак будут присутсвовать разные классы. В этом случае необходимо присваивать класс случайным образом."
   ]
  },
  {
   "cell_type": "code",
   "execution_count": null,
   "metadata": {},
   "outputs": [],
   "source": [
    "import matplotlib.pyplot as plt\n",
    "from sklearn.datasets import make_blobs\n",
    "from collections import Counter"
   ]
  },
  {
   "cell_type": "code",
   "execution_count": null,
   "metadata": {},
   "outputs": [],
   "source": [
    "X, Y = make_blobs(n_samples = 100, n_features=2, centers=5, cluster_std = 2, random_state=24)"
   ]
  },
  {
   "cell_type": "code",
   "execution_count": null,
   "metadata": {},
   "outputs": [],
   "source": [
    "plt.scatter(X[:,0], X[:,1], c=Y)\n",
    "plt.title('Initial data')"
   ]
  },
  {
   "cell_type": "code",
   "execution_count": null,
   "metadata": {},
   "outputs": [],
   "source": [
    "def find_dist(obj, points):\n",
    "    dist_list = list()\n",
    "    for index, point in enumerate(points):\n",
    "        dist = np.linalg.norm(obj-point)\n",
    "        dist_list.append((dist, index))\n",
    "    return sorted(dist_list, key=lambda x: x[0])\n",
    "    \n",
    "    \n",
    "def funct_kNN(x_train, y_train, x_test, k):\n",
    "    y = list() \n",
    "    for test_point in x_test:\n",
    "        close_k = find_dist(test_point, x_train)[:k]\n",
    "        close_labels = [y_train[point[1]] for point in close_k]\n",
    "        cnt = Counter(close_labels)\n",
    "        y.append(cnt.most_common(1)[0][0])\n",
    "    return np.array(y)\n"
   ]
  },
  {
   "cell_type": "code",
   "execution_count": null,
   "metadata": {},
   "outputs": [],
   "source": [
    "from sklearn.model_selection import train_test_split\n",
    "from sklearn.metrics import accuracy_score\n",
    "import numpy as np"
   ]
  },
  {
   "cell_type": "code",
   "execution_count": null,
   "metadata": {},
   "outputs": [],
   "source": [
    "X_train, X_test, y_train, y_test = train_test_split(X, Y, test_size=0.5, random_state=40)\n",
    "for k in [1, 3, 5, 7, 9]:\n",
    "    y = funct_kNN(X_train, y_train, X_test, k)\n",
    "    print('k = ' + str(k) + ' accuracy = ' + str(accuracy_score(y_test, y)))"
   ]
  },
  {
   "cell_type": "markdown",
   "metadata": {},
   "source": [
    "Для корректного анализа построенного классификатора, разбейте исходный набор данных на тренировочный и тестовый.\n",
    "Проверьте качество классификации для различных параметров $k$ (1, 3, 5, 7, 9) метрикой точность (Accuracy). Точность это отношение количества правильно классифицированных объектов ко всему количеству объектов."
   ]
  },
  {
   "cell_type": "code",
   "execution_count": null,
   "metadata": {},
   "outputs": [],
   "source": [
    "plt.tricontourf(X_test[:,0], X_test[:,1], y)\n",
    "plt.scatter(X[:,0], X[:,1], c = Y)"
   ]
  },
  {
   "cell_type": "markdown",
   "metadata": {},
   "source": [
    "Постройте разделающие поверхности, которые строит классификатор"
   ]
  },
  {
   "cell_type": "markdown",
   "metadata": {},
   "source": [
    "## Regression\n",
    "Напишите функцию для регрессии методом к ближайших соседей.\n",
    "\n",
    "Для проверки вашего регрессионной модели создайте функцию синуса в диапазоне [0, 5] и возьмите в этом диапазоне 10 случайных точек как тренеровочную выборку. \n",
    "Задача: предсказать функцию на всем диапазоне [0, 5] для всех возможных значений параметра $k$.\n",
    "\n",
    "$y = sin(x)$\n",
    "\n",
    "**Алгоритм регрессии:**\n",
    "\n",
    "Для каждого тестового обекта:\n",
    "1. вычисление расстояний между всеми тренировочными объектами (можно использовать просто разницу по модулю между признаками объектов, так как у нас всего один признак в задаче);\n",
    "2. нахождение $k$ объектов с минимальными расстояниями;\n",
    "3. вычисление среднего значения по к найденным объектам и присваивание этого значения тестовому объекту."
   ]
  },
  {
   "cell_type": "code",
   "execution_count": null,
   "metadata": {},
   "outputs": [],
   "source": [
    "from math import sin\n",
    "\n",
    "X = np.linspace(0.0, 5.0, num=25)\n",
    "y = [sin(dot) for dot in X]"
   ]
  },
  {
   "cell_type": "code",
   "execution_count": null,
   "metadata": {},
   "outputs": [],
   "source": [
    "def funct_kNN_reg(x_train, y_train, x_test, k):\n",
    "    y = list() \n",
    "    for test_point in x_test:\n",
    "        close_k = find_dist(test_point, x_train)[:k]\n",
    "        close_meanings = [y_train[point[1]] for point in close_k]\n",
    "        y.append(np.mean(close_meanings))\n",
    "    return y"
   ]
  },
  {
   "cell_type": "code",
   "execution_count": null,
   "metadata": {},
   "outputs": [],
   "source": [
    "from sklearn.model_selection import train_test_split\n",
    "from sklearn.metrics import mean_absolute_error\n",
    "\n",
    "X_train, X_test, y_train, y_test = train_test_split(X, y, test_size=0.4, random_state=42)\n",
    "for k in [1, 3, 5, 7, 9]:\n",
    "    y_pred = funct_kNN_reg(X_train, y_train, X_test, k)\n",
    "    print('k = ' + str(k) + ' error = ' + str(mean_absolute_error(y_test, y_pred)))"
   ]
  },
  {
   "cell_type": "markdown",
   "metadata": {},
   "source": [
    "Постройте на одном графике исходную функцию, тренировочные объекты и предсказанные функции для каждого значения $k$."
   ]
  },
  {
   "cell_type": "code",
   "execution_count": null,
   "metadata": {},
   "outputs": [],
   "source": [
    "plt.scatter(X, y, c='yellow')\n",
    "plt.scatter(X_train, y_train, c='green')\n",
    "plt.scatter(X_test, y_pred, c='red')\n",
    "plt.title('kNN Regression')\n",
    "plt.show()"
   ]
  },
  {
   "cell_type": "code",
   "execution_count": null,
   "metadata": {},
   "outputs": [],
   "source": []
  }
 ],
 "metadata": {
  "kernelspec": {
   "display_name": "Python 3",
   "language": "python",
   "name": "python3"
  },
  "language_info": {
   "codemirror_mode": {
    "name": "ipython",
    "version": 3
   },
   "file_extension": ".py",
   "mimetype": "text/x-python",
   "name": "python",
   "nbconvert_exporter": "python",
   "pygments_lexer": "ipython3",
   "version": "3.6.4"
  }
 },
 "nbformat": 4,
 "nbformat_minor": 2
}
